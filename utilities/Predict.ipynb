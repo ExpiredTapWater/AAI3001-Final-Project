{
 "cells": [
  {
   "cell_type": "code",
   "execution_count": 9,
   "id": "b251b821-4d4f-4ecf-9e4e-17b1503f1d5b",
   "metadata": {
    "tags": []
   },
   "outputs": [],
   "source": [
    "# Import stuff\n",
    "from ultralytics import YOLO"
   ]
  },
  {
   "cell_type": "code",
   "execution_count": 10,
   "id": "cdb35208-44fe-4700-9d23-4177ff96f641",
   "metadata": {
    "tags": []
   },
   "outputs": [],
   "source": [
    "# Create a new YOLO model from scratch\n",
    "model = YOLO(\"yolo11n.yaml\")\n",
    "\n",
    "# Load a pretrained YOLO model\n",
    "model = YOLO(r\"./runs/detect/train3/weights/best.pt\")"
   ]
  },
  {
   "cell_type": "code",
   "execution_count": 12,
   "id": "8b76f1e3-8858-4687-9d12-90b188eadd8d",
   "metadata": {
    "tags": []
   },
   "outputs": [
    {
     "name": "stdout",
     "output_type": "stream",
     "text": [
      "\n",
      "image 1/1 C:\\Users\\ChenYi\\Documents\\Github\\AAI3001-Final-Project\\datasets\\3dprint_updated\\images\\test\\BA030.png: 416x640 1 failure, 24.1ms\n",
      "Speed: 0.0ms preprocess, 24.1ms inference, 1.1ms postprocess per image at shape (1, 3, 416, 640)\n"
     ]
    }
   ],
   "source": [
    "# Perform object detection on an image using the model\n",
    "results = model(r\"./datasets/3dprint_updated/images/test/BA030.png\")"
   ]
  },
  {
   "cell_type": "code",
   "execution_count": null,
   "id": "eaff550f-b688-44ae-b90f-0f39b659a2e2",
   "metadata": {},
   "outputs": [],
   "source": []
  }
 ],
 "metadata": {
  "kernelspec": {
   "display_name": "AAI3001",
   "language": "python",
   "name": "aai3001"
  },
  "language_info": {
   "codemirror_mode": {
    "name": "ipython",
    "version": 3
   },
   "file_extension": ".py",
   "mimetype": "text/x-python",
   "name": "python",
   "nbconvert_exporter": "python",
   "pygments_lexer": "ipython3",
   "version": "3.11.9"
  }
 },
 "nbformat": 4,
 "nbformat_minor": 5
}
